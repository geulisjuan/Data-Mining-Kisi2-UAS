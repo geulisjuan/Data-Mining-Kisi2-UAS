{
 "cells": [
  {
   "cell_type": "code",
   "execution_count": 31,
   "id": "2b4e96a6",
   "metadata": {},
   "outputs": [],
   "source": [
    "import pandas as pd\n",
    "import numpy as np"
   ]
  },
  {
   "cell_type": "code",
   "execution_count": 32,
   "id": "4c67b640",
   "metadata": {},
   "outputs": [],
   "source": [
    "kelahiran_df = pd.read_csv(\"E:datamining-master/dataset_soal No. 3.csv\", usecols=['Usia','Kelahiran_ke-','Waktu_Kelahiran','Tekanan_darah'], \n",
    "                        sep=';',dtype={'Usia': 'int32', 'Kelahiran_ke-': 'int32', 'Waktu_Kelahiran': 'int32', 'Tekanan_darah': 'int32'})"
   ]
  },
  {
   "cell_type": "code",
   "execution_count": 33,
   "id": "7afa01c0",
   "metadata": {},
   "outputs": [
    {
     "data": {
      "text/html": [
       "<div>\n",
       "<style scoped>\n",
       "    .dataframe tbody tr th:only-of-type {\n",
       "        vertical-align: middle;\n",
       "    }\n",
       "\n",
       "    .dataframe tbody tr th {\n",
       "        vertical-align: top;\n",
       "    }\n",
       "\n",
       "    .dataframe thead th {\n",
       "        text-align: right;\n",
       "    }\n",
       "</style>\n",
       "<table border=\"1\" class=\"dataframe\">\n",
       "  <thead>\n",
       "    <tr style=\"text-align: right;\">\n",
       "      <th></th>\n",
       "      <th>Usia</th>\n",
       "      <th>Kelahiran_ke-</th>\n",
       "      <th>Waktu_Kelahiran</th>\n",
       "      <th>Tekanan_darah</th>\n",
       "    </tr>\n",
       "  </thead>\n",
       "  <tbody>\n",
       "    <tr>\n",
       "      <th>0</th>\n",
       "      <td>22</td>\n",
       "      <td>1</td>\n",
       "      <td>0</td>\n",
       "      <td>2</td>\n",
       "    </tr>\n",
       "    <tr>\n",
       "      <th>1</th>\n",
       "      <td>26</td>\n",
       "      <td>2</td>\n",
       "      <td>0</td>\n",
       "      <td>1</td>\n",
       "    </tr>\n",
       "    <tr>\n",
       "      <th>2</th>\n",
       "      <td>26</td>\n",
       "      <td>2</td>\n",
       "      <td>1</td>\n",
       "      <td>1</td>\n",
       "    </tr>\n",
       "    <tr>\n",
       "      <th>3</th>\n",
       "      <td>28</td>\n",
       "      <td>1</td>\n",
       "      <td>0</td>\n",
       "      <td>2</td>\n",
       "    </tr>\n",
       "    <tr>\n",
       "      <th>4</th>\n",
       "      <td>22</td>\n",
       "      <td>2</td>\n",
       "      <td>0</td>\n",
       "      <td>1</td>\n",
       "    </tr>\n",
       "  </tbody>\n",
       "</table>\n",
       "</div>"
      ],
      "text/plain": [
       "   Usia  Kelahiran_ke-  Waktu_Kelahiran  Tekanan_darah\n",
       "0    22              1                0              2\n",
       "1    26              2                0              1\n",
       "2    26              2                1              1\n",
       "3    28              1                0              2\n",
       "4    22              2                0              1"
      ]
     },
     "execution_count": 33,
     "metadata": {},
     "output_type": "execute_result"
    }
   ],
   "source": [
    "kelahiran_df.head()"
   ]
  },
  {
   "cell_type": "code",
   "execution_count": 34,
   "id": "a10f79ff",
   "metadata": {},
   "outputs": [
    {
     "data": {
      "text/plain": [
       "(80, 4)"
      ]
     },
     "execution_count": 34,
     "metadata": {},
     "output_type": "execute_result"
    }
   ],
   "source": [
    "kelahiran_df.shape"
   ]
  },
  {
   "cell_type": "code",
   "execution_count": 48,
   "id": "afc8c47a",
   "metadata": {},
   "outputs": [
    {
     "name": "stdout",
     "output_type": "stream",
     "text": [
      "count   80.000\n",
      "mean    27.688\n",
      "std      5.018\n",
      "min     17.000\n",
      "25%     25.000\n",
      "50%     27.000\n",
      "75%     32.000\n",
      "max     40.000\n",
      "Name: Usia, dtype: float64\n"
     ]
    }
   ],
   "source": [
    "pd.set_option('display.float.format', lambda x: '%.3f' %x)\n",
    "print(kelahiran_df['Usia'].describe())"
   ]
  },
  {
   "cell_type": "code",
   "execution_count": null,
   "id": "4577e3a1",
   "metadata": {},
   "outputs": [],
   "source": [
    "popularity_treshold = 30\n",
    "umur_df = dataset_soal_with_Usia.query('Usia >= @popularity_treshold')\n",
    "umur_df.head()"
   ]
  },
  {
   "cell_type": "code",
   "execution_count": null,
   "id": "635fecb6",
   "metadata": {},
   "outputs": [],
   "source": [
    "query_index = np.random.choice(kelahiran_df.shape[0])\n",
    "print(query_index)\n",
    "distance, indices = model_kkn.kneighbors(kelahiran_df.iloc[query_index,:].values.reshape(1,-1),n_neighbors = 3)\n"
   ]
  },
  {
   "cell_type": "code",
   "execution_count": null,
   "id": "67a2630f",
   "metadata": {},
   "outputs": [],
   "source": []
  }
 ],
 "metadata": {
  "kernelspec": {
   "display_name": "Python 3 (ipykernel)",
   "language": "python",
   "name": "python3"
  },
  "language_info": {
   "codemirror_mode": {
    "name": "ipython",
    "version": 3
   },
   "file_extension": ".py",
   "mimetype": "text/x-python",
   "name": "python",
   "nbconvert_exporter": "python",
   "pygments_lexer": "ipython3",
   "version": "3.9.7"
  }
 },
 "nbformat": 4,
 "nbformat_minor": 5
}
